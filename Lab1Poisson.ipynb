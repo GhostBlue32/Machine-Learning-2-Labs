{
 "cells": [
  {
   "cell_type": "markdown",
   "id": "07f89799",
   "metadata": {},
   "source": [
    "# Lab 1 _Poisson Regression\n",
    "\n",
    "Try to use both `SK_learn` and `statmodels` libraries."
   ]
  },
  {
   "cell_type": "markdown",
   "id": "3245de0d",
   "metadata": {},
   "source": [
    "A data set of counts has the following characteristics:\n",
    "\n",
    "1. Whole number data: The data consists of non-negative integers: [0… ∞] Regression techniques such as Ordinary Least Squares Regression may not be appropriate for modeling such data as OLSR works best on real numbers such as -656.0, -0.00000345, 13786.1 etc.\n",
    "2. Skewed Distribution: The data may contain a large number of data points for just a few values, thereby making the frequency distribution quite skewed. See for example above histogram.\n",
    "3. Sparsity: The data may reflect the occurrence of a rare event such as a gamma ray burst, thereby making the data sparse.\n",
    "4. Rate of occurrence: For the sake of creating a model, it can be assumed that there is a certain rate of occurrence of events λ that drives the generation of such data. The event rate may drift over time."
   ]
  },
  {
   "cell_type": "code",
   "execution_count": 1,
   "id": "8ea3d133",
   "metadata": {
    "hide-output": false
   },
   "outputs": [],
   "source": [
    "%matplotlib inline\n",
    "import matplotlib.pyplot as plt\n",
    "plt.rcParams[\"figure.figsize\"] = (11, 5)  #set default figure size\n",
    "import numpy as np\n",
    "from numpy import exp\n",
    "from scipy.special import factorial\n",
    "import pandas as pd\n",
    "from mpl_toolkits.mplot3d import Axes3D\n",
    "from scipy import stats\n",
    "from scipy.stats import norm\n"
   ]
  },
  {
   "cell_type": "code",
   "execution_count": 2,
   "id": "08323412",
   "metadata": {},
   "outputs": [],
   "source": [
    "import statsmodels.api as sm\n",
    "from statsmodels.api import Poisson\n",
    "from statsmodels.iolib.summary2 import summary_col\n",
    "from sklearn.linear_model import PoissonRegressor"
   ]
  },
  {
   "cell_type": "code",
   "execution_count": 3,
   "id": "07392182",
   "metadata": {},
   "outputs": [],
   "source": [
    "import random\n",
    "import math"
   ]
  },
  {
   "cell_type": "code",
   "execution_count": 4,
   "id": "55589082",
   "metadata": {},
   "outputs": [],
   "source": [
    "from patsy import dmatrices"
   ]
  },
  {
   "cell_type": "markdown",
   "id": "72ff93bc",
   "metadata": {},
   "source": [
    "## Time Series Analysis, Regression and Forecasting \n",
    "\n",
    "### Example\n",
    "\n",
    "Here, we use the cleaned data. The raw data are avilable here: https://data.cityofnewyork.us/Transportation/Bicycle-Counters/smn3-rzf9"
   ]
  },
  {
   "cell_type": "code",
   "execution_count": 5,
   "id": "de2a6846",
   "metadata": {},
   "outputs": [
    {
     "data": {
      "text/html": [
       "<div>\n",
       "<style scoped>\n",
       "    .dataframe tbody tr th:only-of-type {\n",
       "        vertical-align: middle;\n",
       "    }\n",
       "\n",
       "    .dataframe tbody tr th {\n",
       "        vertical-align: top;\n",
       "    }\n",
       "\n",
       "    .dataframe thead th {\n",
       "        text-align: right;\n",
       "    }\n",
       "</style>\n",
       "<table border=\"1\" class=\"dataframe\">\n",
       "  <thead>\n",
       "    <tr style=\"text-align: right;\">\n",
       "      <th></th>\n",
       "      <th>HIGH_T</th>\n",
       "      <th>LOW_T</th>\n",
       "      <th>PRECIP</th>\n",
       "      <th>BB_COUNT</th>\n",
       "    </tr>\n",
       "    <tr>\n",
       "      <th>Date</th>\n",
       "      <th></th>\n",
       "      <th></th>\n",
       "      <th></th>\n",
       "      <th></th>\n",
       "    </tr>\n",
       "  </thead>\n",
       "  <tbody>\n",
       "    <tr>\n",
       "      <th>2017-04-01</th>\n",
       "      <td>46.0</td>\n",
       "      <td>37.0</td>\n",
       "      <td>0.00</td>\n",
       "      <td>606</td>\n",
       "    </tr>\n",
       "    <tr>\n",
       "      <th>2017-04-02</th>\n",
       "      <td>62.1</td>\n",
       "      <td>41.0</td>\n",
       "      <td>0.00</td>\n",
       "      <td>2021</td>\n",
       "    </tr>\n",
       "    <tr>\n",
       "      <th>2017-04-03</th>\n",
       "      <td>63.0</td>\n",
       "      <td>50.0</td>\n",
       "      <td>0.03</td>\n",
       "      <td>2470</td>\n",
       "    </tr>\n",
       "    <tr>\n",
       "      <th>2017-04-04</th>\n",
       "      <td>51.1</td>\n",
       "      <td>46.0</td>\n",
       "      <td>1.18</td>\n",
       "      <td>723</td>\n",
       "    </tr>\n",
       "    <tr>\n",
       "      <th>2017-04-05</th>\n",
       "      <td>63.0</td>\n",
       "      <td>46.0</td>\n",
       "      <td>0.00</td>\n",
       "      <td>2807</td>\n",
       "    </tr>\n",
       "    <tr>\n",
       "      <th>...</th>\n",
       "      <td>...</td>\n",
       "      <td>...</td>\n",
       "      <td>...</td>\n",
       "      <td>...</td>\n",
       "    </tr>\n",
       "    <tr>\n",
       "      <th>2017-10-27</th>\n",
       "      <td>62.1</td>\n",
       "      <td>48.0</td>\n",
       "      <td>0.00</td>\n",
       "      <td>3150</td>\n",
       "    </tr>\n",
       "    <tr>\n",
       "      <th>2017-10-28</th>\n",
       "      <td>68.0</td>\n",
       "      <td>55.9</td>\n",
       "      <td>0.00</td>\n",
       "      <td>2245</td>\n",
       "    </tr>\n",
       "    <tr>\n",
       "      <th>2017-10-29</th>\n",
       "      <td>64.9</td>\n",
       "      <td>61.0</td>\n",
       "      <td>3.03</td>\n",
       "      <td>183</td>\n",
       "    </tr>\n",
       "    <tr>\n",
       "      <th>2017-10-30</th>\n",
       "      <td>55.0</td>\n",
       "      <td>46.0</td>\n",
       "      <td>0.25</td>\n",
       "      <td>1428</td>\n",
       "    </tr>\n",
       "    <tr>\n",
       "      <th>2017-10-31</th>\n",
       "      <td>54.0</td>\n",
       "      <td>44.0</td>\n",
       "      <td>0.00</td>\n",
       "      <td>2727</td>\n",
       "    </tr>\n",
       "  </tbody>\n",
       "</table>\n",
       "<p>214 rows × 4 columns</p>\n",
       "</div>"
      ],
      "text/plain": [
       "            HIGH_T  LOW_T  PRECIP  BB_COUNT\n",
       "Date                                       \n",
       "2017-04-01    46.0   37.0    0.00       606\n",
       "2017-04-02    62.1   41.0    0.00      2021\n",
       "2017-04-03    63.0   50.0    0.03      2470\n",
       "2017-04-04    51.1   46.0    1.18       723\n",
       "2017-04-05    63.0   46.0    0.00      2807\n",
       "...            ...    ...     ...       ...\n",
       "2017-10-27    62.1   48.0    0.00      3150\n",
       "2017-10-28    68.0   55.9    0.00      2245\n",
       "2017-10-29    64.9   61.0    3.03       183\n",
       "2017-10-30    55.0   46.0    0.25      1428\n",
       "2017-10-31    54.0   44.0    0.00      2727\n",
       "\n",
       "[214 rows x 4 columns]"
      ]
     },
     "execution_count": 5,
     "metadata": {},
     "output_type": "execute_result"
    }
   ],
   "source": [
    "df = pd.read_csv('nyc_bb_bicyclist_counts.csv', header=0, infer_datetime_format=True, parse_dates=[0], index_col=[0])\n",
    "df"
   ]
  },
  {
   "cell_type": "markdown",
   "id": "00589e58",
   "metadata": {},
   "source": [
    "We’ll add a few derived regression variables to the X matrix."
   ]
  },
  {
   "cell_type": "code",
   "execution_count": 6,
   "id": "c3034a32",
   "metadata": {},
   "outputs": [],
   "source": [
    "ds = df.index.to_series()\n",
    "df['MONTH'] = ds.dt.month\n",
    "df['DAY_OF_WEEK'] = ds.dt.dayofweek\n",
    "df['DAY'] = ds.dt.day"
   ]
  },
  {
   "cell_type": "code",
   "execution_count": 7,
   "id": "0f4fe63a",
   "metadata": {},
   "outputs": [
    {
     "data": {
      "text/html": [
       "<div>\n",
       "<style scoped>\n",
       "    .dataframe tbody tr th:only-of-type {\n",
       "        vertical-align: middle;\n",
       "    }\n",
       "\n",
       "    .dataframe tbody tr th {\n",
       "        vertical-align: top;\n",
       "    }\n",
       "\n",
       "    .dataframe thead th {\n",
       "        text-align: right;\n",
       "    }\n",
       "</style>\n",
       "<table border=\"1\" class=\"dataframe\">\n",
       "  <thead>\n",
       "    <tr style=\"text-align: right;\">\n",
       "      <th></th>\n",
       "      <th>HIGH_T</th>\n",
       "      <th>LOW_T</th>\n",
       "      <th>PRECIP</th>\n",
       "      <th>BB_COUNT</th>\n",
       "      <th>MONTH</th>\n",
       "      <th>DAY_OF_WEEK</th>\n",
       "      <th>DAY</th>\n",
       "    </tr>\n",
       "    <tr>\n",
       "      <th>Date</th>\n",
       "      <th></th>\n",
       "      <th></th>\n",
       "      <th></th>\n",
       "      <th></th>\n",
       "      <th></th>\n",
       "      <th></th>\n",
       "      <th></th>\n",
       "    </tr>\n",
       "  </thead>\n",
       "  <tbody>\n",
       "    <tr>\n",
       "      <th>2017-04-01</th>\n",
       "      <td>46.0</td>\n",
       "      <td>37.0</td>\n",
       "      <td>0.00</td>\n",
       "      <td>606</td>\n",
       "      <td>4</td>\n",
       "      <td>5</td>\n",
       "      <td>1</td>\n",
       "    </tr>\n",
       "    <tr>\n",
       "      <th>2017-04-02</th>\n",
       "      <td>62.1</td>\n",
       "      <td>41.0</td>\n",
       "      <td>0.00</td>\n",
       "      <td>2021</td>\n",
       "      <td>4</td>\n",
       "      <td>6</td>\n",
       "      <td>2</td>\n",
       "    </tr>\n",
       "    <tr>\n",
       "      <th>2017-04-03</th>\n",
       "      <td>63.0</td>\n",
       "      <td>50.0</td>\n",
       "      <td>0.03</td>\n",
       "      <td>2470</td>\n",
       "      <td>4</td>\n",
       "      <td>0</td>\n",
       "      <td>3</td>\n",
       "    </tr>\n",
       "    <tr>\n",
       "      <th>2017-04-04</th>\n",
       "      <td>51.1</td>\n",
       "      <td>46.0</td>\n",
       "      <td>1.18</td>\n",
       "      <td>723</td>\n",
       "      <td>4</td>\n",
       "      <td>1</td>\n",
       "      <td>4</td>\n",
       "    </tr>\n",
       "    <tr>\n",
       "      <th>2017-04-05</th>\n",
       "      <td>63.0</td>\n",
       "      <td>46.0</td>\n",
       "      <td>0.00</td>\n",
       "      <td>2807</td>\n",
       "      <td>4</td>\n",
       "      <td>2</td>\n",
       "      <td>5</td>\n",
       "    </tr>\n",
       "    <tr>\n",
       "      <th>...</th>\n",
       "      <td>...</td>\n",
       "      <td>...</td>\n",
       "      <td>...</td>\n",
       "      <td>...</td>\n",
       "      <td>...</td>\n",
       "      <td>...</td>\n",
       "      <td>...</td>\n",
       "    </tr>\n",
       "    <tr>\n",
       "      <th>2017-10-27</th>\n",
       "      <td>62.1</td>\n",
       "      <td>48.0</td>\n",
       "      <td>0.00</td>\n",
       "      <td>3150</td>\n",
       "      <td>10</td>\n",
       "      <td>4</td>\n",
       "      <td>27</td>\n",
       "    </tr>\n",
       "    <tr>\n",
       "      <th>2017-10-28</th>\n",
       "      <td>68.0</td>\n",
       "      <td>55.9</td>\n",
       "      <td>0.00</td>\n",
       "      <td>2245</td>\n",
       "      <td>10</td>\n",
       "      <td>5</td>\n",
       "      <td>28</td>\n",
       "    </tr>\n",
       "    <tr>\n",
       "      <th>2017-10-29</th>\n",
       "      <td>64.9</td>\n",
       "      <td>61.0</td>\n",
       "      <td>3.03</td>\n",
       "      <td>183</td>\n",
       "      <td>10</td>\n",
       "      <td>6</td>\n",
       "      <td>29</td>\n",
       "    </tr>\n",
       "    <tr>\n",
       "      <th>2017-10-30</th>\n",
       "      <td>55.0</td>\n",
       "      <td>46.0</td>\n",
       "      <td>0.25</td>\n",
       "      <td>1428</td>\n",
       "      <td>10</td>\n",
       "      <td>0</td>\n",
       "      <td>30</td>\n",
       "    </tr>\n",
       "    <tr>\n",
       "      <th>2017-10-31</th>\n",
       "      <td>54.0</td>\n",
       "      <td>44.0</td>\n",
       "      <td>0.00</td>\n",
       "      <td>2727</td>\n",
       "      <td>10</td>\n",
       "      <td>1</td>\n",
       "      <td>31</td>\n",
       "    </tr>\n",
       "  </tbody>\n",
       "</table>\n",
       "<p>214 rows × 7 columns</p>\n",
       "</div>"
      ],
      "text/plain": [
       "            HIGH_T  LOW_T  PRECIP  BB_COUNT  MONTH  DAY_OF_WEEK  DAY\n",
       "Date                                                                \n",
       "2017-04-01    46.0   37.0    0.00       606      4            5    1\n",
       "2017-04-02    62.1   41.0    0.00      2021      4            6    2\n",
       "2017-04-03    63.0   50.0    0.03      2470      4            0    3\n",
       "2017-04-04    51.1   46.0    1.18       723      4            1    4\n",
       "2017-04-05    63.0   46.0    0.00      2807      4            2    5\n",
       "...            ...    ...     ...       ...    ...          ...  ...\n",
       "2017-10-27    62.1   48.0    0.00      3150     10            4   27\n",
       "2017-10-28    68.0   55.9    0.00      2245     10            5   28\n",
       "2017-10-29    64.9   61.0    3.03       183     10            6   29\n",
       "2017-10-30    55.0   46.0    0.25      1428     10            0   30\n",
       "2017-10-31    54.0   44.0    0.00      2727     10            1   31\n",
       "\n",
       "[214 rows x 7 columns]"
      ]
     },
     "execution_count": 7,
     "metadata": {},
     "output_type": "execute_result"
    }
   ],
   "source": [
    "df"
   ]
  },
  {
   "cell_type": "markdown",
   "id": "6876d6bd",
   "metadata": {},
   "source": [
    "We will not use the Date variable as a regressor since it contains an absolute date value but we don’t need to do anything special to drop Date as it is already consumed as the index of the pandas DataFrame. So it will not be available to us in the X matrix.\n",
    "\n",
    "Let’s create the training and testing data sets."
   ]
  },
  {
   "cell_type": "code",
   "execution_count": 8,
   "id": "c411e672",
   "metadata": {},
   "outputs": [
    {
     "name": "stdout",
     "output_type": "stream",
     "text": [
      "Training data set length=178\n",
      "Testing data set length=36\n"
     ]
    }
   ],
   "source": [
    "mask = np.random.rand(len(df)) < 0.8\n",
    "df_train = df[mask]\n",
    "df_test = df[~mask]\n",
    "print('Training data set length='+str(len(df_train)))\n",
    "print('Testing data set length='+str(len(df_test)))"
   ]
  },
  {
   "cell_type": "markdown",
   "id": "8496be9a",
   "metadata": {},
   "source": [
    "Setup the regression expression in patsy notation. We are telling patsy that BB_COUNT is our dependent variable and it depends on the regression variables: DAY, DAY_OF_WEEK, MONTH, HIGH_T, LOW_T and PRECIP."
   ]
  },
  {
   "cell_type": "code",
   "execution_count": 9,
   "id": "50efdacb",
   "metadata": {},
   "outputs": [],
   "source": [
    "expr = \"\"\"BB_COUNT ~ DAY  + DAY_OF_WEEK + MONTH + HIGH_T + LOW_T + PRECIP\"\"\""
   ]
  },
  {
   "cell_type": "markdown",
   "id": "ad0ff463",
   "metadata": {},
   "source": [
    "Set up the X and y matrices for the training and testing data sets. patsy makes this really simple."
   ]
  },
  {
   "cell_type": "code",
   "execution_count": 10,
   "id": "bb763842",
   "metadata": {},
   "outputs": [],
   "source": [
    "y_train, X_train = dmatrices(expr, df_train, return_type='dataframe')\n",
    "y_test, X_test = dmatrices(expr, df_test, return_type='dataframe')"
   ]
  },
  {
   "cell_type": "markdown",
   "id": "fdc40f61",
   "metadata": {},
   "source": [
    "Using the statsmodels GLM class, train the Poisson regression model on the training data set."
   ]
  },
  {
   "cell_type": "code",
   "execution_count": 11,
   "id": "e71049cf",
   "metadata": {},
   "outputs": [],
   "source": [
    "poisson_training_results = sm.GLM(y_train, X_train, family=sm.families.Poisson()).fit()"
   ]
  },
  {
   "cell_type": "markdown",
   "id": "843f44e0",
   "metadata": {},
   "source": [
    "Print the training summary."
   ]
  },
  {
   "cell_type": "code",
   "execution_count": 12,
   "id": "f0952c96",
   "metadata": {},
   "outputs": [
    {
     "name": "stdout",
     "output_type": "stream",
     "text": [
      "                 Generalized Linear Model Regression Results                  \n",
      "==============================================================================\n",
      "Dep. Variable:               BB_COUNT   No. Observations:                  178\n",
      "Model:                            GLM   Df Residuals:                      171\n",
      "Model Family:                 Poisson   Df Model:                            6\n",
      "Link Function:                    Log   Scale:                          1.0000\n",
      "Method:                          IRLS   Log-Likelihood:                -12831.\n",
      "Date:                Sat, 28 Jan 2023   Deviance:                       23943.\n",
      "Time:                        22:35:10   Pearson chi2:                 2.34e+04\n",
      "No. Iterations:                     5   Pseudo R-squ. (CS):              1.000\n",
      "Covariance Type:            nonrobust                                         \n",
      "===============================================================================\n",
      "                  coef    std err          z      P>|z|      [0.025      0.975]\n",
      "-------------------------------------------------------------------------------\n",
      "Intercept       7.0643      0.012    572.100      0.000       7.040       7.089\n",
      "DAY             0.0013      0.000      7.588      0.000       0.001       0.002\n",
      "DAY_OF_WEEK    -0.0217      0.001    -29.784      0.000      -0.023      -0.020\n",
      "MONTH           0.0160      0.001     21.389      0.000       0.015       0.017\n",
      "HIGH_T          0.0259      0.000     78.749      0.000       0.025       0.027\n",
      "LOW_T          -0.0179      0.000    -50.124      0.000      -0.019      -0.017\n",
      "PRECIP         -0.6976      0.007    -96.410      0.000      -0.712      -0.683\n",
      "===============================================================================\n"
     ]
    }
   ],
   "source": [
    "print(poisson_training_results.summary())"
   ]
  },
  {
   "cell_type": "markdown",
   "id": "af5073f6",
   "metadata": {},
   "source": [
    "The summary() method on the statsmodels GLMResults class shows a couple of useful goodness-of-fit statistics to help you evaluate whether your Poisson regression model was able to successfully fit the training data. (e.g., Deviance, Pearson Chi2)\n",
    "\n",
    "The low performance of the model was because the data did not obey the variance = mean criterion required of it by the Poisson regression model. (Negative Binomial model is another choice)\n",
    "\n",
    "This rather strict criterion is often not satisfied by real world data. Often, the variance is greater than the mean, a property called over-dispersion, and sometimes the variance is less than the mean, called under-dispersion. In such cases, one needs to use a regression model that will not make the equi-dispersion assumption i.e.not assume that variance=mean."
   ]
  },
  {
   "cell_type": "markdown",
   "id": "0b0d36ee",
   "metadata": {},
   "source": [
    "### So how well did our model do? Let’s make some predictions on the test data set."
   ]
  },
  {
   "cell_type": "code",
   "execution_count": 13,
   "id": "77320fb1",
   "metadata": {},
   "outputs": [
    {
     "name": "stdout",
     "output_type": "stream",
     "text": [
      "                   mean    mean_se  mean_ci_lower  mean_ci_upper\n",
      "Date                                                            \n",
      "2017-04-09  2732.611633  13.140148    2706.978398    2758.487596\n",
      "2017-04-19  2086.766220   9.224928    2068.763797    2104.925301\n",
      "2017-04-29  3116.760899  14.104634    3089.238561    3144.528436\n",
      "2017-05-02  2543.618419  11.254879    2521.654638    2565.773506\n",
      "2017-05-03  2319.208193   9.260344    2301.129087    2337.429339\n",
      "2017-05-06  1955.318526   7.140596    1941.373183    1969.364042\n",
      "2017-05-14  2631.095380  11.023675    2609.577843    2652.790341\n",
      "2017-05-15  2684.482691   8.747665    2667.392216    2701.682668\n",
      "2017-05-17  3911.028368  16.781242    3878.275652    3944.057686\n",
      "2017-05-25  1346.911288   7.100382    1333.066442    1360.899922\n",
      "2017-05-30  2093.418197   9.984476    2073.940166    2113.079162\n",
      "2017-06-07  2674.715760   7.104906    2660.826587    2688.677433\n",
      "2017-07-01  2485.804272   9.844273    2466.584539    2505.173767\n",
      "2017-07-09  2747.144331   9.075995    2729.413177    2764.990671\n",
      "2017-07-12  3057.920230   9.827692    3038.718847    3077.242945\n",
      "2017-07-15  3030.618450   7.454343    3016.043368    3045.263968\n",
      "2017-07-18  3211.636511   9.743710    3192.595858    3230.790723\n",
      "2017-07-21  3276.658189  10.030426    3257.057773    3296.376557\n",
      "2017-07-22  2115.172905  10.850945    2094.012005    2136.547644\n",
      "2017-07-30  3042.231527  11.482751    3019.808790    3064.820759\n",
      "2017-08-01  3787.145982  15.619372    3756.655976    3817.883454\n",
      "2017-08-07  1557.186378   8.985456    1539.674421    1574.897512\n",
      "2017-08-19  2981.049260   8.323661    2964.779743    2997.408058\n",
      "2017-08-20  2785.988641   8.695032    2768.998709    2803.082819\n",
      "2017-08-25  3024.101971   7.245717    3009.933919    3038.336712\n",
      "2017-08-26  2979.398987   8.675319    2962.444101    2996.450911\n",
      "2017-09-01  2838.172957  10.149243    2818.350353    2858.134982\n",
      "2017-09-05  3321.538058  10.778172    3300.480263    3342.730207\n",
      "2017-09-15  3104.921099   7.020401    3091.191809    3118.711366\n",
      "2017-09-19  2548.068349   7.407417    2533.591361    2562.628059\n",
      "2017-09-20  2808.499739   8.478738    2791.930785    2825.167023\n",
      "2017-09-30  2428.705092  10.043241    2409.100255    2448.469469\n",
      "2017-10-01  2787.075774  13.637607    2760.474319    2813.933576\n",
      "2017-10-10  3321.577297  10.192290    3301.660726    3341.614010\n",
      "2017-10-29   272.215596   5.911201     260.872945     284.051422\n",
      "2017-10-30  2184.782182  12.431914    2160.551447    2209.284666\n"
     ]
    }
   ],
   "source": [
    "poisson_predictions = poisson_training_results.get_prediction(X_test)\n",
    "#summary_frame() returns a pandas DataFrame\n",
    "predictions_summary_frame = poisson_predictions.summary_frame()\n",
    "print(predictions_summary_frame)"
   ]
  },
  {
   "cell_type": "markdown",
   "id": "7d23b2ac",
   "metadata": {},
   "source": [
    "Each row: The first column is the date. The second column is the prediciton fo the mean. The third column is the standard error for the mean. The last two columns are teh 95% confidence interval."
   ]
  },
  {
   "cell_type": "markdown",
   "id": "3fe03324",
   "metadata": {},
   "source": [
    "Let’s plot the predicted counts versus the actual counts for the test data."
   ]
  },
  {
   "cell_type": "code",
   "execution_count": 14,
   "id": "4642dade",
   "metadata": {},
   "outputs": [
    {
     "data": {
      "image/png": "[encoded data removed]",
      "text/plain": [
       "<Figure size 1100x500 with 1 Axes>"
      ]
     },
     "metadata": {},
     "output_type": "display_data"
    }
   ],
   "source": [
    "predicted_counts=predictions_summary_frame['mean']\n",
    "actual_counts = y_test['BB_COUNT']\n",
    "fig = plt.figure()\n",
    "fig.suptitle('Predicted versus actual bicyclist counts on the Brooklyn bridge')\n",
    "predicted, = plt.plot(X_test.index, predicted_counts, 'go-', label='Predicted counts')\n",
    "actual, = plt.plot(X_test.index, actual_counts, 'ro-', label='Actual counts')\n",
    "plt.legend(handles=[predicted, actual])\n",
    "plt.show()"
   ]
  },
  {
   "cell_type": "markdown",
   "id": "4957c197",
   "metadata": {},
   "source": [
    "The model seems to be more or less tracking the trend in the actual counts although in many cases its predictions are way off the actual value."
   ]
  },
  {
   "cell_type": "markdown",
   "id": "ab3a9748",
   "metadata": {},
   "source": [
    "Let’s also plot Actual versus Predicted counts."
   ]
  },
  {
   "cell_type": "code",
   "execution_count": 15,
   "id": "2a12d273",
   "metadata": {},
   "outputs": [
    {
     "data": {
      "text/plain": [
       "<Figure size 1100x500 with 0 Axes>"
      ]
     },
     "metadata": {},
     "output_type": "display_data"
    },
    {
     "data": {
      "image/png": "[encoded data removed]",
      "text/plain": [
       "<Figure size 1100x500 with 1 Axes>"
      ]
     },
     "metadata": {},
     "output_type": "display_data"
    }
   ],
   "source": [
    "plt.clf()\n",
    "fig = plt.figure()\n",
    "fig.suptitle('Scatter plot of Actual versus Predicted counts')\n",
    "plt.scatter(x=predicted_counts, y=actual_counts, marker='.')\n",
    "plt.xlabel('Predicted counts')\n",
    "plt.ylabel('Actual counts')\n",
    "plt.show()"
   ]
  },
  {
   "cell_type": "markdown",
   "id": "ebfa3250",
   "metadata": {},
   "source": [
    "# Traffic Accident Data Set:"
   ]
  },
  {
   "cell_type": "markdown",
   "id": "b55635d9",
   "metadata": {},
   "source": [
    "Data Sets: \n",
    "\n",
    "1. US Accidents (2016 - 2021)\n",
    "\n",
    "A Countrywide Traffic Accident Dataset (2016 - 2021)\n",
    "\n",
    "https://www.kaggle.com/datasets/sobhanmoosavi/us-accidents?select=US_Accidents_Dec21_updated.csv  (Data is 1.2G)\n",
    "\n",
    "Feature information: US-Accidents: A Countrywide Traffic Accident Dataset Description: \n",
    "https://smoosavi.org/datasets/us_accidents\n",
    "\n",
    "\n",
    "2. Accidents in France from 2005 to 2016 (for yourself in future study)\n",
    "\n",
    "https://www.kaggle.com/datasets/ahmedlahlou/accidents-in-france-from-2005-to-2016 "
   ]
  },
  {
   "cell_type": "markdown",
   "id": "8b4251e1",
   "metadata": {},
   "source": [
    "# Questions:  \n",
    "\n",
    "#### 1. Use US Accidents (2016 - 2021) data, summerize by daily, use Temperature(F), Precipitation(in), Wind_Speed(mph), humidity (in percentage).  \n",
    "\n",
    "#### 2. Use Possion regression to model the daily accident in the US (or in one state data, or one city data, or only use 1 year data, if your computer is not powerful enough ) \n",
    "\n",
    "#### or 3, You can also summerize your own question, but you need to use possion regression to model the data\n",
    "\n",
    "Kaggle has several good notebooks in python: \n",
    "For example, https://www.kaggle.com/datasets/sobhanmoosavi/us-accidents/code?select=US_Accidents_Dec21_updated.csv and find in `Code`\n",
    "\n",
    "One example for Cleveland, OH.\n",
    "https://www.kaggle.com/code/sekoukeita/analysis-and-visualization-for-us-and-cleveland-oh\n",
    "\n",
    "\n",
    "#### or 4. If you feel difficult of dealing with the raw data above, you can start with a similar example from below:\n",
    "Daily total of bike counts conducted monthly on the Brooklyn Bridge, Manhattan Bridge, Williamsburg Bridge, and Queensboro Bridge.\n",
    "https://data.cityofnewyork.us/Transportation/Bicycle-Counts-for-East-River-Bridges-Historical-/gua4-p9wg "
   ]
  },
  {
   "cell_type": "code",
   "execution_count": null,
   "id": "d62ae89c",
   "metadata": {},
   "outputs": [],
   "source": []
  },
  {
   "cell_type": "code",
   "execution_count": null,
   "id": "388a6725",
   "metadata": {},
   "outputs": [],
   "source": []
  },
  {
   "cell_type": "code",
   "execution_count": null,
   "id": "d4f8aece",
   "metadata": {},
   "outputs": [],
   "source": []
  },
  {
   "cell_type": "code",
   "execution_count": null,
   "id": "796c47d1",
   "metadata": {},
   "outputs": [],
   "source": []
  },
  {
   "cell_type": "code",
   "execution_count": null,
   "id": "1bcc07fd",
   "metadata": {},
   "outputs": [],
   "source": []
  },
  {
   "cell_type": "code",
   "execution_count": null,
   "id": "f6f34ac2",
   "metadata": {},
   "outputs": [],
   "source": []
  },
  {
   "cell_type": "code",
   "execution_count": null,
   "id": "9a7dbc5c",
   "metadata": {},
   "outputs": [],
   "source": []
  },
  {
   "cell_type": "code",
   "execution_count": null,
   "id": "17f03bc9",
   "metadata": {},
   "outputs": [],
   "source": []
  },
  {
   "cell_type": "code",
   "execution_count": null,
   "id": "96ea8d75",
   "metadata": {},
   "outputs": [],
   "source": []
  },
  {
   "cell_type": "code",
   "execution_count": null,
   "id": "3766161b",
   "metadata": {},
   "outputs": [],
   "source": []
  }
 ],
 "metadata": {
  "date": 1673171198.3812559,
  "filename": "mle.md",
  "kernelspec": {
   "display_name": "Python 3 (ipykernel)",
   "language": "python",
   "name": "python3"
  },
  "language_info": {
   "codemirror_mode": {
    "name": "ipython",
    "version": 3
   },
   "file_extension": ".py",
   "mimetype": "text/x-python",
   "name": "python",
   "nbconvert_exporter": "python",
   "pygments_lexer": "ipython3",
   "version": "3.11.5"
  },
  "title": "Maximum Likelihood Estimation"
 },
 "nbformat": 4,
 "nbformat_minor": 5
}
